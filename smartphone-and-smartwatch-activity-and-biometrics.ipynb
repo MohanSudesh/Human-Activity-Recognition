{
 "cells": [
  {
   "cell_type": "markdown",
   "metadata": {},
   "source": [
    "Human Activity Recognition\n",
    "\n",
    "Human Activity Recognition is the problem of predicting what a person is doing based on a trace of their movement using sensors. The \"Human Activity Detection #Dataset\" includes data collected from 34 subjects, each of whom were asked to perform 18 tasks for 3 minutes each. Each subject had a smartwatch placed on his/her dominant hand and a smartphone in their pocket. The data collection was controlled by a custom-made app that ran on the #smartphone and #smartwatch. The sensor data that was collected was from the accelerometer and gyroscope on both the smartphone and smartwatch, yielding four total sensors. The sensor data was collected at a rate of 20 Hz (i.e., every 50ms). The smartphone was either the Google Nexus 5/5X or Samsung Galaxy S5 running Android 6.0 (Marshmallow). The smartwatch was the LG G Watch running Android Wear 1.5."
   ]
  },
  {
   "cell_type": "code",
   "execution_count": 2,
   "metadata": {
    "_cell_guid": "b1076dfc-b9ad-4769-8c92-a6c4dae69d19",
    "_uuid": "8f2839f25d086af736a60e9eeb907d3b93b6e0e5",
    "collapsed": true
   },
   "outputs": [
    {
     "name": "stdout",
     "output_type": "stream",
     "text": [
      "/kaggle/input/smartphone-and-smartwatch-activity-and-biometrics/wisdm-dataset/wisdm-dataset/raw/phone/accel/data_1624_accel_phone.txt\n",
      "/kaggle/input/smartphone-and-smartwatch-activity-and-biometrics/wisdm-dataset/wisdm-dataset/raw/phone/accel/data_1605_accel_phone.txt\n",
      "/kaggle/input/smartphone-and-smartwatch-activity-and-biometrics/wisdm-dataset/wisdm-dataset/raw/phone/accel/data_1642_accel_phone.txt\n",
      "/kaggle/input/smartphone-and-smartwatch-activity-and-biometrics/wisdm-dataset/wisdm-dataset/raw/phone/accel/data_1637_accel_phone.txt\n",
      "/kaggle/input/smartphone-and-smartwatch-activity-and-biometrics/wisdm-dataset/wisdm-dataset/raw/phone/accel/data_1600_accel_phone.txt\n",
      "/kaggle/input/smartphone-and-smartwatch-activity-and-biometrics/wisdm-dataset/wisdm-dataset/raw/phone/accel/data_1649_accel_phone.txt\n",
      "/kaggle/input/smartphone-and-smartwatch-activity-and-biometrics/wisdm-dataset/wisdm-dataset/raw/phone/accel/data_1602_accel_phone.txt\n",
      "/kaggle/input/smartphone-and-smartwatch-activity-and-biometrics/wisdm-dataset/wisdm-dataset/raw/phone/accel/data_1611_accel_phone.txt\n",
      "/kaggle/input/smartphone-and-smartwatch-activity-and-biometrics/wisdm-dataset/wisdm-dataset/raw/phone/accel/data_1619_accel_phone.txt\n",
      "/kaggle/input/smartphone-and-smartwatch-activity-and-biometrics/wisdm-dataset/wisdm-dataset/raw/phone/accel/data_1638_accel_phone.txt\n",
      "/kaggle/input/smartphone-and-smartwatch-activity-and-biometrics/wisdm-dataset/wisdm-dataset/raw/phone/accel/data_1645_accel_phone.txt\n",
      "/kaggle/input/smartphone-and-smartwatch-activity-and-biometrics/wisdm-dataset/wisdm-dataset/raw/phone/accel/data_1631_accel_phone.txt\n",
      "/kaggle/input/smartphone-and-smartwatch-activity-and-biometrics/wisdm-dataset/wisdm-dataset/raw/phone/accel/data_1643_accel_phone.txt\n",
      "/kaggle/input/smartphone-and-smartwatch-activity-and-biometrics/wisdm-dataset/wisdm-dataset/raw/phone/accel/data_1640_accel_phone.txt\n",
      "/kaggle/input/smartphone-and-smartwatch-activity-and-biometrics/wisdm-dataset/wisdm-dataset/raw/phone/accel/data_1610_accel_phone.txt\n",
      "/kaggle/input/smartphone-and-smartwatch-activity-and-biometrics/wisdm-dataset/wisdm-dataset/raw/phone/accel/data_1601_accel_phone.txt\n",
      "/kaggle/input/smartphone-and-smartwatch-activity-and-biometrics/wisdm-dataset/wisdm-dataset/raw/phone/accel/data_1646_accel_phone.txt\n",
      "/kaggle/input/smartphone-and-smartwatch-activity-and-biometrics/wisdm-dataset/wisdm-dataset/raw/phone/accel/data_1623_accel_phone.txt\n",
      "/kaggle/input/smartphone-and-smartwatch-activity-and-biometrics/wisdm-dataset/wisdm-dataset/raw/phone/accel/data_1626_accel_phone.txt\n",
      "/kaggle/input/smartphone-and-smartwatch-activity-and-biometrics/wisdm-dataset/wisdm-dataset/raw/phone/accel/data_1621_accel_phone.txt\n",
      "/kaggle/input/smartphone-and-smartwatch-activity-and-biometrics/wisdm-dataset/wisdm-dataset/raw/phone/accel/data_1625_accel_phone.txt\n",
      "/kaggle/input/smartphone-and-smartwatch-activity-and-biometrics/wisdm-dataset/wisdm-dataset/raw/phone/accel/data_1632_accel_phone.txt\n",
      "/kaggle/input/smartphone-and-smartwatch-activity-and-biometrics/wisdm-dataset/wisdm-dataset/raw/phone/accel/data_1607_accel_phone.txt\n",
      "/kaggle/input/smartphone-and-smartwatch-activity-and-biometrics/wisdm-dataset/wisdm-dataset/raw/phone/accel/data_1614_accel_phone.txt\n",
      "/kaggle/input/smartphone-and-smartwatch-activity-and-biometrics/wisdm-dataset/wisdm-dataset/raw/phone/accel/data_1627_accel_phone.txt\n",
      "/kaggle/input/smartphone-and-smartwatch-activity-and-biometrics/wisdm-dataset/wisdm-dataset/raw/phone/accel/data_1647_accel_phone.txt\n",
      "/kaggle/input/smartphone-and-smartwatch-activity-and-biometrics/wisdm-dataset/wisdm-dataset/raw/phone/accel/data_1613_accel_phone.txt\n",
      "/kaggle/input/smartphone-and-smartwatch-activity-and-biometrics/wisdm-dataset/wisdm-dataset/raw/phone/accel/data_1650_accel_phone.txt\n",
      "/kaggle/input/smartphone-and-smartwatch-activity-and-biometrics/wisdm-dataset/wisdm-dataset/raw/phone/accel/data_1634_accel_phone.txt\n",
      "/kaggle/input/smartphone-and-smartwatch-activity-and-biometrics/wisdm-dataset/wisdm-dataset/raw/phone/accel/data_1609_accel_phone.txt\n",
      "/kaggle/input/smartphone-and-smartwatch-activity-and-biometrics/wisdm-dataset/wisdm-dataset/raw/phone/accel/data_1612_accel_phone.txt\n",
      "/kaggle/input/smartphone-and-smartwatch-activity-and-biometrics/wisdm-dataset/wisdm-dataset/raw/phone/accel/data_1616_accel_phone.txt\n",
      "/kaggle/input/smartphone-and-smartwatch-activity-and-biometrics/wisdm-dataset/wisdm-dataset/raw/phone/accel/data_1620_accel_phone.txt\n",
      "/kaggle/input/smartphone-and-smartwatch-activity-and-biometrics/wisdm-dataset/wisdm-dataset/raw/phone/accel/data_1608_accel_phone.txt\n",
      "/kaggle/input/smartphone-and-smartwatch-activity-and-biometrics/wisdm-dataset/wisdm-dataset/raw/phone/accel/data_1606_accel_phone.txt\n",
      "/kaggle/input/smartphone-and-smartwatch-activity-and-biometrics/wisdm-dataset/wisdm-dataset/raw/phone/accel/data_1617_accel_phone.txt\n",
      "/kaggle/input/smartphone-and-smartwatch-activity-and-biometrics/wisdm-dataset/wisdm-dataset/raw/phone/accel/data_1604_accel_phone.txt\n",
      "/kaggle/input/smartphone-and-smartwatch-activity-and-biometrics/wisdm-dataset/wisdm-dataset/raw/phone/accel/data_1633_accel_phone.txt\n",
      "/kaggle/input/smartphone-and-smartwatch-activity-and-biometrics/wisdm-dataset/wisdm-dataset/raw/phone/accel/data_1644_accel_phone.txt\n",
      "/kaggle/input/smartphone-and-smartwatch-activity-and-biometrics/wisdm-dataset/wisdm-dataset/raw/phone/accel/data_1629_accel_phone.txt\n",
      "/kaggle/input/smartphone-and-smartwatch-activity-and-biometrics/wisdm-dataset/wisdm-dataset/raw/phone/accel/data_1635_accel_phone.txt\n",
      "/kaggle/input/smartphone-and-smartwatch-activity-and-biometrics/wisdm-dataset/wisdm-dataset/raw/phone/accel/data_1628_accel_phone.txt\n",
      "/kaggle/input/smartphone-and-smartwatch-activity-and-biometrics/wisdm-dataset/wisdm-dataset/raw/phone/accel/data_1630_accel_phone.txt\n",
      "/kaggle/input/smartphone-and-smartwatch-activity-and-biometrics/wisdm-dataset/wisdm-dataset/raw/phone/accel/data_1618_accel_phone.txt\n",
      "/kaggle/input/smartphone-and-smartwatch-activity-and-biometrics/wisdm-dataset/wisdm-dataset/raw/phone/accel/data_1648_accel_phone.txt\n",
      "/kaggle/input/smartphone-and-smartwatch-activity-and-biometrics/wisdm-dataset/wisdm-dataset/raw/phone/accel/data_1641_accel_phone.txt\n",
      "/kaggle/input/smartphone-and-smartwatch-activity-and-biometrics/wisdm-dataset/wisdm-dataset/raw/phone/accel/data_1636_accel_phone.txt\n",
      "/kaggle/input/smartphone-and-smartwatch-activity-and-biometrics/wisdm-dataset/wisdm-dataset/raw/phone/accel/data_1615_accel_phone.txt\n",
      "/kaggle/input/smartphone-and-smartwatch-activity-and-biometrics/wisdm-dataset/wisdm-dataset/raw/phone/accel/data_1639_accel_phone.txt\n",
      "/kaggle/input/smartphone-and-smartwatch-activity-and-biometrics/wisdm-dataset/wisdm-dataset/raw/phone/accel/data_1603_accel_phone.txt\n",
      "/kaggle/input/smartphone-and-smartwatch-activity-and-biometrics/wisdm-dataset/wisdm-dataset/raw/phone/accel/data_1622_accel_phone.txt\n"
     ]
    }
   ],
   "source": [
    "# This Python 3 environment comes with many helpful analytics libraries installed\n",
    "# It is defined by the kaggle/python Docker image: https://github.com/kaggle/docker-python\n",
    "# For example, here's several helpful packages to load\n",
    "\n",
    "import numpy as np # linear algebra\n",
    "import pandas as pd # data processing, CSV file I/O (e.g. pd.read_csv)\n",
    "\n",
    "# Input data files are available in the read-only \"../input/\" directory\n",
    "# For example, running this (by clicking run or pressing Shift+Enter) will list all files under the input directory\n",
    "\n",
    "import os\n",
    "for dirname, _, filenames in os.walk('/kaggle/input/smartphone-and-smartwatch-activity-and-biometrics/wisdm-dataset/wisdm-dataset/raw/phone/accel'):\n",
    "    for filename in filenames:\n",
    "        print(os.path.join(dirname, filename))\n",
    "\n",
    "# You can write up to 5GB to the current directory (/kaggle/working/) that gets preserved as output when you create a version using \"Save & Run All\" \n",
    "# You can also write temporary files to /kaggle/temp/, but they won't be saved outside of the current session"
   ]
  },
  {
   "cell_type": "code",
   "execution_count": 3,
   "metadata": {
    "_cell_guid": "79c7e3d0-c299-4dcb-8224-4455121ee9b0",
    "_uuid": "d629ff2d2480ee46fbb7e2d37f6b5fab8052498a"
   },
   "outputs": [
    {
     "name": "stderr",
     "output_type": "stream",
     "text": [
      "Using TensorFlow backend.\n"
     ]
    }
   ],
   "source": [
    "from __future__ import print_function\n",
    "from matplotlib import pyplot as plt\n",
    "%matplotlib inline\n",
    "import numpy as np\n",
    "import pandas as pd\n",
    "import seaborn as sns\n",
    "#import coremltools\n",
    "from scipy import stats\n",
    "from IPython.display import display, HTML\n",
    "\n",
    "from sklearn import metrics\n",
    "from sklearn.metrics import classification_report\n",
    "from sklearn import preprocessing\n",
    "\n",
    "import keras\n",
    "from keras.models import Sequential\n",
    "from keras.layers import Dense, Dropout, Flatten, Reshape\n",
    "from keras.layers import Conv2D, MaxPooling2D\n",
    "from keras.utils import np_utils"
   ]
  },
  {
   "cell_type": "markdown",
   "metadata": {},
   "source": [
    "Phone Accelerometer Train/test"
   ]
  },
  {
   "cell_type": "code",
   "execution_count": 4,
   "metadata": {},
   "outputs": [],
   "source": [
    "columns=['user','activity','time','x','y','z']\n",
    "\n",
    "data_phone_accel_sum = pd.DataFrame(data=None,columns=columns)\n",
    "for dirname, _, filenames in os.walk('/kaggle/input/smartphone-and-smartwatch-activity-and-biometrics/wisdm-dataset/wisdm-dataset/raw/phone/accel'):\n",
    "    for filename in filenames:\n",
    "        df = pd.read_csv('/kaggle/input/smartphone-and-smartwatch-activity-and-biometrics/wisdm-dataset/wisdm-dataset/raw/phone/accel/'+filename , sep=\",\", header=None)\n",
    "        temp=pd.DataFrame(data=df.values, columns=columns)\n",
    "        data_phone_accel_sum=pd.concat([data_phone_accel_sum,temp])"
   ]
  },
  {
   "cell_type": "code",
   "execution_count": 5,
   "metadata": {},
   "outputs": [
    {
     "name": "stdout",
     "output_type": "stream",
     "text": [
      "<class 'pandas.core.frame.DataFrame'>\n",
      "Int64Index: 4804403 entries, 0 to 64307\n",
      "Data columns (total 6 columns):\n",
      " #   Column    Dtype  \n",
      "---  ------    -----  \n",
      " 0   user      object \n",
      " 1   activity  object \n",
      " 2   time      object \n",
      " 3   x         float64\n",
      " 4   y         float64\n",
      " 5   z         float64\n",
      "dtypes: float64(3), object(3)\n",
      "memory usage: 256.6+ MB\n"
     ]
    }
   ],
   "source": [
    "data_phone_accel_sum['z'] = data_phone_accel_sum['z'].str.replace(';','')\n",
    "data_phone_accel_sum['activity'].value_counts()\n",
    "data_phone_accel_sum['x']=data_phone_accel_sum['x'].astype('float')\n",
    "data_phone_accel_sum['y']=data_phone_accel_sum['y'].astype('float')\n",
    "data_phone_accel_sum['z']=data_phone_accel_sum['z'].astype('float')\n",
    "data_phone_accel_sum.info()"
   ]
  },
  {
   "cell_type": "markdown",
   "metadata": {},
   "source": [
    "Phone Gyro files import Train/test"
   ]
  },
  {
   "cell_type": "code",
   "execution_count": 6,
   "metadata": {},
   "outputs": [],
   "source": [
    "\n",
    "data_phone_gyro_sum = pd.DataFrame(data=None,columns=columns)\n",
    "for dirname, _, filenames in os.walk('/kaggle/input/smartphone-and-smartwatch-activity-and-biometrics/wisdm-dataset/wisdm-dataset/raw/phone/gyro'):\n",
    "    for filename in filenames:\n",
    "        df = pd.read_csv('/kaggle/input/smartphone-and-smartwatch-activity-and-biometrics/wisdm-dataset/wisdm-dataset/raw/phone/gyro/'+filename , sep=\",\", header=None)\n",
    "        temp=pd.DataFrame(data=df.values, columns=columns)\n",
    "        data_phone_gyro_sum=pd.concat([data_phone_gyro_sum,temp])"
   ]
  },
  {
   "cell_type": "code",
   "execution_count": 7,
   "metadata": {},
   "outputs": [
    {
     "name": "stdout",
     "output_type": "stream",
     "text": [
      "<class 'pandas.core.frame.DataFrame'>\n",
      "Int64Index: 3608635 entries, 0 to 64243\n",
      "Data columns (total 6 columns):\n",
      " #   Column    Dtype  \n",
      "---  ------    -----  \n",
      " 0   user      object \n",
      " 1   activity  object \n",
      " 2   time      object \n",
      " 3   x         float64\n",
      " 4   y         float64\n",
      " 5   z         float64\n",
      "dtypes: float64(3), object(3)\n",
      "memory usage: 192.7+ MB\n"
     ]
    }
   ],
   "source": [
    "data_phone_gyro_sum['z'] = data_phone_gyro_sum['z'].str.replace(';','')\n",
    "\n",
    "data_phone_gyro_sum['x']=data_phone_gyro_sum['x'].astype('float')\n",
    "data_phone_gyro_sum['y']=data_phone_gyro_sum['y'].astype('float')\n",
    "data_phone_gyro_sum['z']=data_phone_gyro_sum['z'].astype('float')\n",
    "\n",
    "data_phone_gyro_sum['activity'].value_counts()\n",
    "data_phone_gyro_sum.info()"
   ]
  },
  {
   "cell_type": "markdown",
   "metadata": {},
   "source": [
    "Watch Gyro files import train/test"
   ]
  },
  {
   "cell_type": "code",
   "execution_count": 8,
   "metadata": {},
   "outputs": [],
   "source": [
    "\n",
    "data_watch_gyro_sum = pd.DataFrame(data=None,columns=columns)\n",
    "for dirname, _, filenames in os.walk('/kaggle/input/smartphone-and-smartwatch-activity-and-biometrics/wisdm-dataset/wisdm-dataset/raw/watch/gyro'):\n",
    "    for filename in filenames:\n",
    "        df = pd.read_csv('/kaggle/input/smartphone-and-smartwatch-activity-and-biometrics/wisdm-dataset/wisdm-dataset/raw/watch/gyro/'+filename , sep=\",\", header=None)\n",
    "        temp=pd.DataFrame(data=df.values, columns=columns)\n",
    "        data_watch_gyro_sum=pd.concat([data_watch_gyro_sum,temp])"
   ]
  },
  {
   "cell_type": "code",
   "execution_count": 9,
   "metadata": {},
   "outputs": [
    {
     "name": "stdout",
     "output_type": "stream",
     "text": [
      "<class 'pandas.core.frame.DataFrame'>\n",
      "Int64Index: 3440342 entries, 0 to 64857\n",
      "Data columns (total 6 columns):\n",
      " #   Column    Dtype  \n",
      "---  ------    -----  \n",
      " 0   user      object \n",
      " 1   activity  object \n",
      " 2   time      object \n",
      " 3   x         float64\n",
      " 4   y         float64\n",
      " 5   z         float64\n",
      "dtypes: float64(3), object(3)\n",
      "memory usage: 183.7+ MB\n"
     ]
    }
   ],
   "source": [
    "data_watch_gyro_sum['z'] = data_watch_gyro_sum['z'].str.replace(';','')\n",
    "data_watch_gyro_sum['x']=data_watch_gyro_sum['x'].astype('float')\n",
    "data_watch_gyro_sum['y']=data_watch_gyro_sum['y'].astype('float')\n",
    "data_watch_gyro_sum['z']=data_watch_gyro_sum['z'].astype('float')\n",
    "\n",
    "data_watch_gyro_sum['activity'].value_counts()\n",
    "data_watch_gyro_sum.info()"
   ]
  },
  {
   "cell_type": "markdown",
   "metadata": {},
   "source": [
    "Watch accelorometer files import train test"
   ]
  },
  {
   "cell_type": "code",
   "execution_count": 10,
   "metadata": {},
   "outputs": [],
   "source": [
    "\n",
    "data_watch_accel_sum = pd.DataFrame(data=None,columns=columns)\n",
    "for dirname, _, filenames in os.walk('/kaggle/input/smartphone-and-smartwatch-activity-and-biometrics/wisdm-dataset/wisdm-dataset/raw/watch/accel'):\n",
    "    for filename in filenames:\n",
    "        df = pd.read_csv('/kaggle/input/smartphone-and-smartwatch-activity-and-biometrics/wisdm-dataset/wisdm-dataset/raw/watch/accel/'+filename , sep=\",\", header=None)\n",
    "        temp=pd.DataFrame(data=df.values, columns=columns)\n",
    "        data_watch_accel_sum=pd.concat([data_watch_accel_sum,temp])"
   ]
  },
  {
   "cell_type": "code",
   "execution_count": 11,
   "metadata": {},
   "outputs": [
    {
     "name": "stdout",
     "output_type": "stream",
     "text": [
      "<class 'pandas.core.frame.DataFrame'>\n",
      "Int64Index: 3777046 entries, 0 to 64904\n",
      "Data columns (total 6 columns):\n",
      " #   Column    Dtype  \n",
      "---  ------    -----  \n",
      " 0   user      object \n",
      " 1   activity  object \n",
      " 2   time      object \n",
      " 3   x         float64\n",
      " 4   y         float64\n",
      " 5   z         float64\n",
      "dtypes: float64(3), object(3)\n",
      "memory usage: 201.7+ MB\n"
     ]
    }
   ],
   "source": [
    "data_watch_accel_sum['z'] = data_watch_accel_sum['z'].str.replace(';','')\n",
    "data_watch_accel_sum['x']=data_watch_accel_sum['x'].astype('float')\n",
    "data_watch_accel_sum['y']=data_watch_accel_sum['y'].astype('float')\n",
    "data_watch_accel_sum['z']=data_watch_accel_sum['z'].astype('float')\n",
    "\n",
    "data_watch_accel_sum['activity'].value_counts()\n",
    "data_watch_accel_sum.info()"
   ]
  },
  {
   "cell_type": "markdown",
   "metadata": {},
   "source": [
    "Combining Phone accel and gyro data"
   ]
  },
  {
   "cell_type": "code",
   "execution_count": 12,
   "metadata": {},
   "outputs": [],
   "source": [
    "df_phone = pd.DataFrame(data=None, columns=columns)\n",
    "df_phone['user']= data_phone_accel_sum['user'].head(3608635)\n",
    "df_phone['activity']= data_phone_accel_sum['activity'].head(3608635)\n",
    "df_phone['time']= data_phone_accel_sum['time'].head(3608635)\n",
    "df_phone['x'] = data_phone_gyro_sum['x'].values + data_phone_accel_sum['x'].head(3608635).values\n",
    "df_phone['y'] = data_phone_gyro_sum['y'].values + data_phone_accel_sum['y'].head(3608635).values\n",
    "df_phone['z'] = data_phone_gyro_sum['z'].values + data_phone_accel_sum['z'].head(3608635).values"
   ]
  },
  {
   "cell_type": "markdown",
   "metadata": {},
   "source": [
    "Combining watch acccel and gyro data"
   ]
  },
  {
   "cell_type": "code",
   "execution_count": 13,
   "metadata": {},
   "outputs": [],
   "source": [
    "df_watch = pd.DataFrame(data=None, columns=columns)\n",
    "df_watch['user']= data_watch_accel_sum['user'].head(3440342)\n",
    "df_watch['activity']= data_watch_accel_sum['activity'].head(3440342)\n",
    "df_watch['time']= data_watch_accel_sum['time'].head(3440342)\n",
    "df_watch['x'] = data_watch_gyro_sum['x'].values + data_watch_accel_sum['x'].head(3440342).values\n",
    "df_watch['y'] = data_watch_gyro_sum['x'].values + data_watch_accel_sum['y'].head(3440342).values\n",
    "df_watch['z'] = data_watch_gyro_sum['x'].values + data_watch_accel_sum['z'].head(3440342).values"
   ]
  },
  {
   "cell_type": "code",
   "execution_count": 14,
   "metadata": {},
   "outputs": [
    {
     "data": {
      "text/plain": [
       "M    215128\n",
       "O    212249\n",
       "A    210850\n",
       "H    207248\n",
       "G    206081\n",
       "E    206059\n",
       "K    205276\n",
       "P    202779\n",
       "D    200784\n",
       "B    199484\n",
       "L    198967\n",
       "I    196133\n",
       "R    195604\n",
       "Q    193432\n",
       "S    192786\n",
       "J    190860\n",
       "F    188205\n",
       "C    186710\n",
       "Name: activity, dtype: int64"
      ]
     },
     "execution_count": 14,
     "metadata": {},
     "output_type": "execute_result"
    }
   ],
   "source": [
    "df_phone['activity'].value_counts()"
   ]
  },
  {
   "cell_type": "code",
   "execution_count": 15,
   "metadata": {},
   "outputs": [
    {
     "data": {
      "text/plain": [
       "K    197861\n",
       "Q    197333\n",
       "D    195001\n",
       "P    194777\n",
       "E    193017\n",
       "O    192089\n",
       "I    192031\n",
       "M    191473\n",
       "H    191451\n",
       "A    190710\n",
       "G    190702\n",
       "S    189712\n",
       "C    189294\n",
       "R    189241\n",
       "B    187769\n",
       "F    187119\n",
       "L    185667\n",
       "J    185095\n",
       "Name: activity, dtype: int64"
      ]
     },
     "execution_count": 15,
     "metadata": {},
     "output_type": "execute_result"
    }
   ],
   "source": [
    "df_watch['activity'].value_counts()"
   ]
  },
  {
   "cell_type": "markdown",
   "metadata": {},
   "source": [
    "Combining Phone and Watch Data"
   ]
  },
  {
   "cell_type": "code",
   "execution_count": 16,
   "metadata": {},
   "outputs": [],
   "source": [
    "df_phone_watch = pd.DataFrame(data=None, columns=columns)\n",
    "df_phone_watch['user']= df_phone['user'].head(3440342)\n",
    "df_phone_watch['activity']= df_phone['activity'].head(3440342)\n",
    "df_phone_watch['time']= df_phone['time'].head(3440342)\n",
    "df_phone_watch['x'] = df_watch['x'].values + df_phone['x'].head(3440342).values\n",
    "df_phone_watch['y'] = df_watch['y'].values + df_phone['y'].head(3440342).values\n",
    "df_phone_watch['z'] = df_watch['z'].values + df_phone['z'].head(3440342).values"
   ]
  },
  {
   "cell_type": "code",
   "execution_count": 17,
   "metadata": {},
   "outputs": [
    {
     "name": "stdout",
     "output_type": "stream",
     "text": [
      "<class 'pandas.core.frame.DataFrame'>\n",
      "Int64Index: 3440342 entries, 0 to 45498\n",
      "Data columns (total 6 columns):\n",
      " #   Column    Dtype  \n",
      "---  ------    -----  \n",
      " 0   user      object \n",
      " 1   activity  object \n",
      " 2   time      object \n",
      " 3   x         float64\n",
      " 4   y         float64\n",
      " 5   z         float64\n",
      "dtypes: float64(3), object(3)\n",
      "memory usage: 183.7+ MB\n"
     ]
    }
   ],
   "source": [
    "df_phone_watch.info()"
   ]
  },
  {
   "cell_type": "code",
   "execution_count": 18,
   "metadata": {},
   "outputs": [
    {
     "data": {
      "text/plain": [
       "A    201918\n",
       "H    198317\n",
       "M    197197\n",
       "G    197150\n",
       "E    197128\n",
       "P    196413\n",
       "O    194325\n",
       "K    192772\n",
       "R    192031\n",
       "D    191851\n",
       "B    190552\n",
       "Q    189861\n",
       "S    189213\n",
       "I    187202\n",
       "L    186464\n",
       "J    180895\n",
       "F    179275\n",
       "C    177778\n",
       "Name: activity, dtype: int64"
      ]
     },
     "execution_count": 18,
     "metadata": {},
     "output_type": "execute_result"
    }
   ],
   "source": [
    "df_phone_watch['activity'].value_counts()"
   ]
  },
  {
   "cell_type": "code",
   "execution_count": 19,
   "metadata": {},
   "outputs": [],
   "source": [
    "Fs = 20"
   ]
  },
  {
   "cell_type": "code",
   "execution_count": 20,
   "metadata": {},
   "outputs": [],
   "source": [
    "activities = df_phone_watch['activity'].value_counts().index"
   ]
  },
  {
   "cell_type": "code",
   "execution_count": 21,
   "metadata": {},
   "outputs": [],
   "source": [
    "df_phone_watch = df_phone_watch.drop(['user', 'time'], axis=1)"
   ]
  },
  {
   "cell_type": "code",
   "execution_count": 22,
   "metadata": {},
   "outputs": [
    {
     "data": {
      "text/plain": [
       "A    201918\n",
       "H    198317\n",
       "M    197197\n",
       "G    197150\n",
       "E    197128\n",
       "P    196413\n",
       "O    194325\n",
       "K    192772\n",
       "R    192031\n",
       "D    191851\n",
       "B    190552\n",
       "Q    189861\n",
       "S    189213\n",
       "I    187202\n",
       "L    186464\n",
       "J    180895\n",
       "F    179275\n",
       "C    177778\n",
       "Name: activity, dtype: int64"
      ]
     },
     "execution_count": 22,
     "metadata": {},
     "output_type": "execute_result"
    }
   ],
   "source": [
    "df_phone_watch['activity'].value_counts()"
   ]
  },
  {
   "cell_type": "code",
   "execution_count": 23,
   "metadata": {},
   "outputs": [],
   "source": [
    "df_a = df_phone_watch[df_phone_watch['activity']=='A'].head(174604)\n",
    "df_m = df_phone_watch[df_phone_watch['activity']=='M'].head(174604)\n",
    "df_k = df_phone_watch[df_phone_watch['activity']=='K'].head(174604)\n",
    "df_p = df_phone_watch[df_phone_watch['activity']=='P'].head(174604)\n",
    "df_e = df_phone_watch[df_phone_watch['activity']=='E'].head(174604)\n",
    "df_o = df_phone_watch[df_phone_watch['activity']=='O'].head(174604)\n",
    "df_c = df_phone_watch[df_phone_watch['activity']=='C'].head(174604)\n",
    "df_d = df_phone_watch[df_phone_watch['activity']=='D'].head(174604)\n",
    "df_l = df_phone_watch[df_phone_watch['activity']=='L'].head(174604)\n",
    "df_b = df_phone_watch[df_phone_watch['activity']=='B'].head(174604)\n",
    "df_h = df_phone_watch[df_phone_watch['activity']=='H'].head(174604)\n",
    "df_f = df_phone_watch[df_phone_watch['activity']=='F'].head(174604)\n",
    "df_g = df_phone_watch[df_phone_watch['activity']=='G'].head(174604)\n",
    "df_q = df_phone_watch[df_phone_watch['activity']=='Q'].head(174604)\n",
    "df_r = df_phone_watch[df_phone_watch['activity']=='R'].head(174604)\n",
    "df_s = df_phone_watch[df_phone_watch['activity']=='S'].head(174604)\n",
    "df_i = df_phone_watch[df_phone_watch['activity']=='I'].head(174604)\n",
    "df_j = df_phone_watch[df_phone_watch['activity']=='J']"
   ]
  },
  {
   "cell_type": "code",
   "execution_count": 24,
   "metadata": {},
   "outputs": [],
   "source": [
    "balanced_data = pd.DataFrame()\n",
    "balanced_data = balanced_data.append([df_a,df_m,df_k,df_p,df_e,df_o,df_c,df_d,df_l,df_b,df_h,df_f,df_g,df_q,df_r,df_s,df_i,df_j]) "
   ]
  },
  {
   "cell_type": "code",
   "execution_count": 25,
   "metadata": {},
   "outputs": [
    {
     "data": {
      "text/plain": [
       "J    180895\n",
       "R    174604\n",
       "B    174604\n",
       "M    174604\n",
       "C    174604\n",
       "K    174604\n",
       "P    174604\n",
       "L    174604\n",
       "F    174604\n",
       "Q    174604\n",
       "I    174604\n",
       "E    174604\n",
       "G    174604\n",
       "S    174604\n",
       "D    174604\n",
       "H    174604\n",
       "A    174604\n",
       "O    174604\n",
       "Name: activity, dtype: int64"
      ]
     },
     "execution_count": 25,
     "metadata": {},
     "output_type": "execute_result"
    }
   ],
   "source": [
    "balanced_data['activity'].value_counts()"
   ]
  },
  {
   "cell_type": "code",
   "execution_count": 26,
   "metadata": {},
   "outputs": [],
   "source": [
    "from sklearn.preprocessing import LabelEncoder"
   ]
  },
  {
   "cell_type": "code",
   "execution_count": 27,
   "metadata": {},
   "outputs": [
    {
     "data": {
      "text/html": [
       "<div>\n",
       "<style scoped>\n",
       "    .dataframe tbody tr th:only-of-type {\n",
       "        vertical-align: middle;\n",
       "    }\n",
       "\n",
       "    .dataframe tbody tr th {\n",
       "        vertical-align: top;\n",
       "    }\n",
       "\n",
       "    .dataframe thead th {\n",
       "        text-align: right;\n",
       "    }\n",
       "</style>\n",
       "<table border=\"1\" class=\"dataframe\">\n",
       "  <thead>\n",
       "    <tr style=\"text-align: right;\">\n",
       "      <th></th>\n",
       "      <th>activity</th>\n",
       "      <th>x</th>\n",
       "      <th>y</th>\n",
       "      <th>z</th>\n",
       "      <th>label</th>\n",
       "    </tr>\n",
       "  </thead>\n",
       "  <tbody>\n",
       "    <tr>\n",
       "      <th>0</th>\n",
       "      <td>A</td>\n",
       "      <td>13.750549</td>\n",
       "      <td>-11.874284</td>\n",
       "      <td>-7.126030</td>\n",
       "      <td>0</td>\n",
       "    </tr>\n",
       "    <tr>\n",
       "      <th>1</th>\n",
       "      <td>A</td>\n",
       "      <td>8.361988</td>\n",
       "      <td>-18.150660</td>\n",
       "      <td>-4.347719</td>\n",
       "      <td>0</td>\n",
       "    </tr>\n",
       "    <tr>\n",
       "      <th>2</th>\n",
       "      <td>A</td>\n",
       "      <td>6.586178</td>\n",
       "      <td>-11.288211</td>\n",
       "      <td>-5.160292</td>\n",
       "      <td>0</td>\n",
       "    </tr>\n",
       "    <tr>\n",
       "      <th>3</th>\n",
       "      <td>A</td>\n",
       "      <td>10.606791</td>\n",
       "      <td>-13.405935</td>\n",
       "      <td>-4.386877</td>\n",
       "      <td>0</td>\n",
       "    </tr>\n",
       "    <tr>\n",
       "      <th>4</th>\n",
       "      <td>A</td>\n",
       "      <td>13.392424</td>\n",
       "      <td>-12.947109</td>\n",
       "      <td>-7.125218</td>\n",
       "      <td>0</td>\n",
       "    </tr>\n",
       "    <tr>\n",
       "      <th>...</th>\n",
       "      <td>...</td>\n",
       "      <td>...</td>\n",
       "      <td>...</td>\n",
       "      <td>...</td>\n",
       "      <td>...</td>\n",
       "    </tr>\n",
       "    <tr>\n",
       "      <th>45494</th>\n",
       "      <td>J</td>\n",
       "      <td>-2.656428</td>\n",
       "      <td>-6.847281</td>\n",
       "      <td>-0.794544</td>\n",
       "      <td>9</td>\n",
       "    </tr>\n",
       "    <tr>\n",
       "      <th>45495</th>\n",
       "      <td>J</td>\n",
       "      <td>19.716516</td>\n",
       "      <td>-7.460141</td>\n",
       "      <td>14.250988</td>\n",
       "      <td>9</td>\n",
       "    </tr>\n",
       "    <tr>\n",
       "      <th>45496</th>\n",
       "      <td>J</td>\n",
       "      <td>-10.976937</td>\n",
       "      <td>-10.508259</td>\n",
       "      <td>11.279987</td>\n",
       "      <td>9</td>\n",
       "    </tr>\n",
       "    <tr>\n",
       "      <th>45497</th>\n",
       "      <td>J</td>\n",
       "      <td>-10.936750</td>\n",
       "      <td>-12.066632</td>\n",
       "      <td>-3.021969</td>\n",
       "      <td>9</td>\n",
       "    </tr>\n",
       "    <tr>\n",
       "      <th>45498</th>\n",
       "      <td>J</td>\n",
       "      <td>-9.318008</td>\n",
       "      <td>-11.749658</td>\n",
       "      <td>-4.798829</td>\n",
       "      <td>9</td>\n",
       "    </tr>\n",
       "  </tbody>\n",
       "</table>\n",
       "<p>3149163 rows × 5 columns</p>\n",
       "</div>"
      ],
      "text/plain": [
       "      activity          x          y          z  label\n",
       "0            A  13.750549 -11.874284  -7.126030      0\n",
       "1            A   8.361988 -18.150660  -4.347719      0\n",
       "2            A   6.586178 -11.288211  -5.160292      0\n",
       "3            A  10.606791 -13.405935  -4.386877      0\n",
       "4            A  13.392424 -12.947109  -7.125218      0\n",
       "...        ...        ...        ...        ...    ...\n",
       "45494        J  -2.656428  -6.847281  -0.794544      9\n",
       "45495        J  19.716516  -7.460141  14.250988      9\n",
       "45496        J -10.976937 -10.508259  11.279987      9\n",
       "45497        J -10.936750 -12.066632  -3.021969      9\n",
       "45498        J  -9.318008 -11.749658  -4.798829      9\n",
       "\n",
       "[3149163 rows x 5 columns]"
      ]
     },
     "execution_count": 27,
     "metadata": {},
     "output_type": "execute_result"
    }
   ],
   "source": [
    "label = LabelEncoder()\n",
    "balanced_data['label'] = label.fit_transform(balanced_data['activity']) \n",
    "balanced_data"
   ]
  },
  {
   "cell_type": "code",
   "execution_count": 28,
   "metadata": {},
   "outputs": [
    {
     "data": {
      "text/plain": [
       "array(['A', 'B', 'C', 'D', 'E', 'F', 'G', 'H', 'I', 'J', 'K', 'L', 'M',\n",
       "       'O', 'P', 'Q', 'R', 'S'], dtype=object)"
      ]
     },
     "execution_count": 28,
     "metadata": {},
     "output_type": "execute_result"
    }
   ],
   "source": [
    "label.classes_"
   ]
  },
  {
   "cell_type": "markdown",
   "metadata": {},
   "source": [
    "**Statndardize Data**"
   ]
  },
  {
   "cell_type": "code",
   "execution_count": 29,
   "metadata": {},
   "outputs": [
    {
     "data": {
      "text/html": [
       "<div>\n",
       "<style scoped>\n",
       "    .dataframe tbody tr th:only-of-type {\n",
       "        vertical-align: middle;\n",
       "    }\n",
       "\n",
       "    .dataframe tbody tr th {\n",
       "        vertical-align: top;\n",
       "    }\n",
       "\n",
       "    .dataframe thead th {\n",
       "        text-align: right;\n",
       "    }\n",
       "</style>\n",
       "<table border=\"1\" class=\"dataframe\">\n",
       "  <thead>\n",
       "    <tr style=\"text-align: right;\">\n",
       "      <th></th>\n",
       "      <th>x</th>\n",
       "      <th>y</th>\n",
       "      <th>z</th>\n",
       "      <th>label</th>\n",
       "    </tr>\n",
       "  </thead>\n",
       "  <tbody>\n",
       "    <tr>\n",
       "      <th>0</th>\n",
       "      <td>1.485231</td>\n",
       "      <td>-0.661030</td>\n",
       "      <td>-1.194153</td>\n",
       "      <td>0</td>\n",
       "    </tr>\n",
       "    <tr>\n",
       "      <th>1</th>\n",
       "      <td>0.888257</td>\n",
       "      <td>-1.370361</td>\n",
       "      <td>-0.829636</td>\n",
       "      <td>0</td>\n",
       "    </tr>\n",
       "    <tr>\n",
       "      <th>2</th>\n",
       "      <td>0.691523</td>\n",
       "      <td>-0.594794</td>\n",
       "      <td>-0.936247</td>\n",
       "      <td>0</td>\n",
       "    </tr>\n",
       "    <tr>\n",
       "      <th>3</th>\n",
       "      <td>1.136949</td>\n",
       "      <td>-0.834131</td>\n",
       "      <td>-0.834774</td>\n",
       "      <td>0</td>\n",
       "    </tr>\n",
       "    <tr>\n",
       "      <th>4</th>\n",
       "      <td>1.445556</td>\n",
       "      <td>-0.782276</td>\n",
       "      <td>-1.194046</td>\n",
       "      <td>0</td>\n",
       "    </tr>\n",
       "    <tr>\n",
       "      <th>...</th>\n",
       "      <td>...</td>\n",
       "      <td>...</td>\n",
       "      <td>...</td>\n",
       "      <td>...</td>\n",
       "    </tr>\n",
       "    <tr>\n",
       "      <th>3149158</th>\n",
       "      <td>-0.332424</td>\n",
       "      <td>-0.092898</td>\n",
       "      <td>-0.363456</td>\n",
       "      <td>9</td>\n",
       "    </tr>\n",
       "    <tr>\n",
       "      <th>3149159</th>\n",
       "      <td>2.146174</td>\n",
       "      <td>-0.162161</td>\n",
       "      <td>1.610531</td>\n",
       "      <td>9</td>\n",
       "    </tr>\n",
       "    <tr>\n",
       "      <th>3149160</th>\n",
       "      <td>-1.254216</td>\n",
       "      <td>-0.506647</td>\n",
       "      <td>1.220733</td>\n",
       "      <td>9</td>\n",
       "    </tr>\n",
       "    <tr>\n",
       "      <th>3149161</th>\n",
       "      <td>-1.249764</td>\n",
       "      <td>-0.682768</td>\n",
       "      <td>-0.655697</td>\n",
       "      <td>9</td>\n",
       "    </tr>\n",
       "    <tr>\n",
       "      <th>3149162</th>\n",
       "      <td>-1.070431</td>\n",
       "      <td>-0.646945</td>\n",
       "      <td>-0.888822</td>\n",
       "      <td>9</td>\n",
       "    </tr>\n",
       "  </tbody>\n",
       "</table>\n",
       "<p>3149163 rows × 4 columns</p>\n",
       "</div>"
      ],
      "text/plain": [
       "                x         y         z  label\n",
       "0        1.485231 -0.661030 -1.194153      0\n",
       "1        0.888257 -1.370361 -0.829636      0\n",
       "2        0.691523 -0.594794 -0.936247      0\n",
       "3        1.136949 -0.834131 -0.834774      0\n",
       "4        1.445556 -0.782276 -1.194046      0\n",
       "...           ...       ...       ...    ...\n",
       "3149158 -0.332424 -0.092898 -0.363456      9\n",
       "3149159  2.146174 -0.162161  1.610531      9\n",
       "3149160 -1.254216 -0.506647  1.220733      9\n",
       "3149161 -1.249764 -0.682768 -0.655697      9\n",
       "3149162 -1.070431 -0.646945 -0.888822      9\n",
       "\n",
       "[3149163 rows x 4 columns]"
      ]
     },
     "execution_count": 29,
     "metadata": {},
     "output_type": "execute_result"
    }
   ],
   "source": [
    "from sklearn.preprocessing import StandardScaler\n",
    "\n",
    "x = balanced_data[['x','y','z']]\n",
    "y = balanced_data['label']\n",
    "scaler = StandardScaler()\n",
    "x = scaler.fit_transform(x)\n",
    "\n",
    "scaled_x = pd.DataFrame(data=x, columns=['x','y','z'])\n",
    "scaled_x['label'] = y.values\n",
    "\n",
    "scaled_x"
   ]
  },
  {
   "cell_type": "markdown",
   "metadata": {},
   "source": [
    "**Frame Preparation**"
   ]
  },
  {
   "cell_type": "code",
   "execution_count": 30,
   "metadata": {},
   "outputs": [],
   "source": [
    "import scipy.stats as stats"
   ]
  },
  {
   "cell_type": "code",
   "execution_count": 31,
   "metadata": {},
   "outputs": [],
   "source": [
    "Fs=20\n",
    "frame_size = Fs*4 #80\n",
    "hop_size = Fs*2 #40"
   ]
  },
  {
   "cell_type": "code",
   "execution_count": 32,
   "metadata": {},
   "outputs": [],
   "source": [
    "def get_frames(df, frame_size, hop_size):\n",
    "    \n",
    "    N_FEATURES = 3\n",
    "    frames = []\n",
    "    labels = []\n",
    "    for i in range(0,len(df )- frame_size, hop_size):\n",
    "        x = df['x'].values[i: i+frame_size]\n",
    "        y = df['y'].values[i: i+frame_size]\n",
    "        z = df['z'].values[i: i+frame_size]\n",
    "        \n",
    "        label = stats.mode(df['label'][i: i+frame_size])[0][0]\n",
    "        frames.append([x,y,z])\n",
    "        labels.append(label)\n",
    "        \n",
    "    frames = np.asarray(frames).reshape(-1, frame_size, N_FEATURES)\n",
    "    labels = np.asarray(labels)\n",
    "    \n",
    "    return frames, labels"
   ]
  },
  {
   "cell_type": "code",
   "execution_count": 33,
   "metadata": {},
   "outputs": [],
   "source": [
    "x,y = get_frames(scaled_x, frame_size, hop_size)"
   ]
  },
  {
   "cell_type": "code",
   "execution_count": 34,
   "metadata": {},
   "outputs": [
    {
     "data": {
      "text/plain": [
       "((78728, 80, 3), (78728,))"
      ]
     },
     "execution_count": 34,
     "metadata": {},
     "output_type": "execute_result"
    }
   ],
   "source": [
    " x.shape, y.shape"
   ]
  },
  {
   "cell_type": "code",
   "execution_count": 35,
   "metadata": {},
   "outputs": [],
   "source": [
    "from sklearn.model_selection import train_test_split"
   ]
  },
  {
   "cell_type": "code",
   "execution_count": 53,
   "metadata": {},
   "outputs": [],
   "source": [
    "x_train, x_test, y_train, y_test = train_test_split(x,y,test_size=0.30, random_state = 0, stratify = y)"
   ]
  },
  {
   "cell_type": "code",
   "execution_count": 58,
   "metadata": {},
   "outputs": [
    {
     "data": {
      "text/plain": [
       "(55109,)"
      ]
     },
     "execution_count": 58,
     "metadata": {},
     "output_type": "execute_result"
    }
   ],
   "source": [
    "y_train.shape"
   ]
  },
  {
   "cell_type": "code",
   "execution_count": 70,
   "metadata": {},
   "outputs": [
    {
     "data": {
      "text/plain": [
       "((55109, 80, 3), (23619, 80, 3))"
      ]
     },
     "execution_count": 70,
     "metadata": {},
     "output_type": "execute_result"
    }
   ],
   "source": [
    "x_train.shape, x_test.shape"
   ]
  },
  {
   "cell_type": "code",
   "execution_count": 72,
   "metadata": {},
   "outputs": [
    {
     "data": {
      "text/plain": [
       "((80, 3), (80, 3))"
      ]
     },
     "execution_count": 72,
     "metadata": {},
     "output_type": "execute_result"
    }
   ],
   "source": [
    "x_train[0].shape, x_test[0].shape"
   ]
  },
  {
   "cell_type": "code",
   "execution_count": 74,
   "metadata": {},
   "outputs": [],
   "source": [
    "x_train = x_train.reshape(55109, 80, 3,1)\n",
    "x_test = x_test.reshape(23619, 80, 3,1)"
   ]
  },
  {
   "cell_type": "markdown",
   "metadata": {},
   "source": [
    "**2D CNN Model**"
   ]
  },
  {
   "cell_type": "code",
   "execution_count": 78,
   "metadata": {},
   "outputs": [],
   "source": [
    "model = Sequential()\n",
    "model.add(Conv2D(256, (2,2), activation = 'relu', input_shape = x_train[0].shape))\n",
    "model.add(Dropout(0.1))\n",
    "\n",
    "model.add(Conv2D(512, (2,2), activation = 'relu'))\n",
    "model.add(Dropout(0.2))\n",
    "\n",
    "model.add(Flatten())\n",
    "\n",
    "model.add(Dense(1024, activation = 'relu'))\n",
    "model.add(Dropout(0.5))\n",
    "\n",
    "model.add(Dense(18, activation='softmax'))"
   ]
  },
  {
   "cell_type": "code",
   "execution_count": 79,
   "metadata": {},
   "outputs": [],
   "source": [
    "model.compile(optimizer=\"Adam\", loss=\"sparse_categorical_crossentropy\", metrics=[\"accuracy\"]) "
   ]
  },
  {
   "cell_type": "code",
   "execution_count": 80,
   "metadata": {},
   "outputs": [
    {
     "name": "stdout",
     "output_type": "stream",
     "text": [
      "Train on 55109 samples, validate on 23619 samples\n",
      "Epoch 1/25\n",
      "55109/55109 [==============================] - 35s 634us/step - loss: 2.3569 - accuracy: 0.2395 - val_loss: 1.9909 - val_accuracy: 0.3701\n",
      "Epoch 2/25\n",
      "55109/55109 [==============================] - 35s 628us/step - loss: 1.8530 - accuracy: 0.4017 - val_loss: 1.6498 - val_accuracy: 0.4743\n",
      "Epoch 3/25\n",
      "55109/55109 [==============================] - 35s 627us/step - loss: 1.5074 - accuracy: 0.5152 - val_loss: 1.4385 - val_accuracy: 0.5451\n",
      "Epoch 4/25\n",
      "55109/55109 [==============================] - 35s 633us/step - loss: 1.2545 - accuracy: 0.5943 - val_loss: 1.3385 - val_accuracy: 0.5761\n",
      "Epoch 5/25\n",
      "55109/55109 [==============================] - 34s 621us/step - loss: 1.0758 - accuracy: 0.6508 - val_loss: 1.3389 - val_accuracy: 0.5925\n",
      "Epoch 6/25\n",
      "55109/55109 [==============================] - 35s 627us/step - loss: 0.9457 - accuracy: 0.6901 - val_loss: 1.3119 - val_accuracy: 0.6014\n",
      "Epoch 7/25\n",
      "55109/55109 [==============================] - 35s 626us/step - loss: 0.8412 - accuracy: 0.7246 - val_loss: 1.3227 - val_accuracy: 0.6070\n",
      "Epoch 8/25\n",
      "55109/55109 [==============================] - 34s 622us/step - loss: 0.7619 - accuracy: 0.7508 - val_loss: 1.3551 - val_accuracy: 0.6112\n",
      "Epoch 9/25\n",
      "55109/55109 [==============================] - 35s 628us/step - loss: 0.6948 - accuracy: 0.7710 - val_loss: 1.3321 - val_accuracy: 0.6110\n",
      "Epoch 10/25\n",
      "55109/55109 [==============================] - 34s 622us/step - loss: 0.6425 - accuracy: 0.7904 - val_loss: 1.3481 - val_accuracy: 0.6221\n",
      "Epoch 11/25\n",
      "55109/55109 [==============================] - 35s 629us/step - loss: 0.6030 - accuracy: 0.8018 - val_loss: 1.3778 - val_accuracy: 0.6165\n",
      "Epoch 12/25\n",
      "55109/55109 [==============================] - 34s 621us/step - loss: 0.5636 - accuracy: 0.8140 - val_loss: 1.3658 - val_accuracy: 0.6244\n",
      "Epoch 13/25\n",
      "55109/55109 [==============================] - 35s 630us/step - loss: 0.5329 - accuracy: 0.8237 - val_loss: 1.3918 - val_accuracy: 0.6166\n",
      "Epoch 14/25\n",
      "55109/55109 [==============================] - 35s 630us/step - loss: 0.4996 - accuracy: 0.8347 - val_loss: 1.4629 - val_accuracy: 0.6206\n",
      "Epoch 15/25\n",
      "55109/55109 [==============================] - 34s 621us/step - loss: 0.4790 - accuracy: 0.8443 - val_loss: 1.5187 - val_accuracy: 0.6149\n",
      "Epoch 16/25\n",
      "55109/55109 [==============================] - 34s 626us/step - loss: 0.4570 - accuracy: 0.8519 - val_loss: 1.4950 - val_accuracy: 0.6297\n",
      "Epoch 17/25\n",
      "55109/55109 [==============================] - 34s 620us/step - loss: 0.4386 - accuracy: 0.8587 - val_loss: 1.4920 - val_accuracy: 0.6250\n",
      "Epoch 18/25\n",
      "55109/55109 [==============================] - 35s 627us/step - loss: 0.4307 - accuracy: 0.8594 - val_loss: 1.5802 - val_accuracy: 0.6173\n",
      "Epoch 19/25\n",
      "55109/55109 [==============================] - 34s 621us/step - loss: 0.4039 - accuracy: 0.8678 - val_loss: 1.6379 - val_accuracy: 0.6195\n",
      "Epoch 20/25\n",
      "55109/55109 [==============================] - 35s 628us/step - loss: 0.3934 - accuracy: 0.8711 - val_loss: 1.5586 - val_accuracy: 0.6281\n",
      "Epoch 21/25\n",
      "55109/55109 [==============================] - 35s 628us/step - loss: 0.3818 - accuracy: 0.8743 - val_loss: 1.5006 - val_accuracy: 0.6285\n",
      "Epoch 22/25\n",
      "55109/55109 [==============================] - 34s 625us/step - loss: 0.3753 - accuracy: 0.8778 - val_loss: 1.5727 - val_accuracy: 0.6225\n",
      "Epoch 23/25\n",
      "55109/55109 [==============================] - 35s 627us/step - loss: 0.3678 - accuracy: 0.8806 - val_loss: 1.5825 - val_accuracy: 0.6275\n",
      "Epoch 24/25\n",
      "55109/55109 [==============================] - 34s 620us/step - loss: 0.3463 - accuracy: 0.8880 - val_loss: 1.5283 - val_accuracy: 0.6240\n",
      "Epoch 25/25\n",
      "55109/55109 [==============================] - 35s 627us/step - loss: 0.3464 - accuracy: 0.8867 - val_loss: 1.4588 - val_accuracy: 0.6278\n"
     ]
    }
   ],
   "source": [
    "history = model.fit(x_train, y_train, epochs = 25, validation_data=(x_test, y_test), verbose=1 )"
   ]
  }
 ],
 "metadata": {
  "kernelspec": {
   "display_name": "Python 3",
   "language": "python",
   "name": "python3"
  },
  "language_info": {
   "codemirror_mode": {
    "name": "ipython",
    "version": 3
   },
   "file_extension": ".py",
   "mimetype": "text/x-python",
   "name": "python",
   "nbconvert_exporter": "python",
   "pygments_lexer": "ipython3",
   "version": "3.7.4"
  }
 },
 "nbformat": 4,
 "nbformat_minor": 4
}
